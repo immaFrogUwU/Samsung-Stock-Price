{
  "nbformat": 4,
  "nbformat_minor": 0,
  "metadata": {
    "colab": {
      "provenance": [],
      "include_colab_link": true
    },
    "kernelspec": {
      "name": "python3",
      "display_name": "Python 3"
    },
    "language_info": {
      "name": "python"
    }
  },
  "cells": [
    {
      "cell_type": "markdown",
      "metadata": {
        "id": "view-in-github",
        "colab_type": "text"
      },
      "source": [
        "<a href=\"https://colab.research.google.com/github/immaFrogUwU/Samsung-Stock-Price/blob/main/Samsung_stock_price.ipynb\" target=\"_parent\"><img src=\"https://colab.research.google.com/assets/colab-badge.svg\" alt=\"Open In Colab\"/></a>"
      ]
    },
    {
      "cell_type": "code",
      "source": [
        "from google.colab import files\n",
        "uploaded = files.upload()"
      ],
      "metadata": {
        "colab": {
          "base_uri": "https://localhost:8080/",
          "height": 73
        },
        "id": "CSOlHo-ijUbX",
        "outputId": "53bb9db1-d6af-4096-c74d-3a0f54331468"
      },
      "execution_count": null,
      "outputs": [
        {
          "output_type": "display_data",
          "data": {
            "text/plain": [
              "<IPython.core.display.HTML object>"
            ],
            "text/html": [
              "\n",
              "     <input type=\"file\" id=\"files-844cba48-265f-4d13-9b2e-90684721a708\" name=\"files[]\" multiple disabled\n",
              "        style=\"border:none\" />\n",
              "     <output id=\"result-844cba48-265f-4d13-9b2e-90684721a708\">\n",
              "      Upload widget is only available when the cell has been executed in the\n",
              "      current browser session. Please rerun this cell to enable.\n",
              "      </output>\n",
              "      <script>// Copyright 2017 Google LLC\n",
              "//\n",
              "// Licensed under the Apache License, Version 2.0 (the \"License\");\n",
              "// you may not use this file except in compliance with the License.\n",
              "// You may obtain a copy of the License at\n",
              "//\n",
              "//      http://www.apache.org/licenses/LICENSE-2.0\n",
              "//\n",
              "// Unless required by applicable law or agreed to in writing, software\n",
              "// distributed under the License is distributed on an \"AS IS\" BASIS,\n",
              "// WITHOUT WARRANTIES OR CONDITIONS OF ANY KIND, either express or implied.\n",
              "// See the License for the specific language governing permissions and\n",
              "// limitations under the License.\n",
              "\n",
              "/**\n",
              " * @fileoverview Helpers for google.colab Python module.\n",
              " */\n",
              "(function(scope) {\n",
              "function span(text, styleAttributes = {}) {\n",
              "  const element = document.createElement('span');\n",
              "  element.textContent = text;\n",
              "  for (const key of Object.keys(styleAttributes)) {\n",
              "    element.style[key] = styleAttributes[key];\n",
              "  }\n",
              "  return element;\n",
              "}\n",
              "\n",
              "// Max number of bytes which will be uploaded at a time.\n",
              "const MAX_PAYLOAD_SIZE = 100 * 1024;\n",
              "\n",
              "function _uploadFiles(inputId, outputId) {\n",
              "  const steps = uploadFilesStep(inputId, outputId);\n",
              "  const outputElement = document.getElementById(outputId);\n",
              "  // Cache steps on the outputElement to make it available for the next call\n",
              "  // to uploadFilesContinue from Python.\n",
              "  outputElement.steps = steps;\n",
              "\n",
              "  return _uploadFilesContinue(outputId);\n",
              "}\n",
              "\n",
              "// This is roughly an async generator (not supported in the browser yet),\n",
              "// where there are multiple asynchronous steps and the Python side is going\n",
              "// to poll for completion of each step.\n",
              "// This uses a Promise to block the python side on completion of each step,\n",
              "// then passes the result of the previous step as the input to the next step.\n",
              "function _uploadFilesContinue(outputId) {\n",
              "  const outputElement = document.getElementById(outputId);\n",
              "  const steps = outputElement.steps;\n",
              "\n",
              "  const next = steps.next(outputElement.lastPromiseValue);\n",
              "  return Promise.resolve(next.value.promise).then((value) => {\n",
              "    // Cache the last promise value to make it available to the next\n",
              "    // step of the generator.\n",
              "    outputElement.lastPromiseValue = value;\n",
              "    return next.value.response;\n",
              "  });\n",
              "}\n",
              "\n",
              "/**\n",
              " * Generator function which is called between each async step of the upload\n",
              " * process.\n",
              " * @param {string} inputId Element ID of the input file picker element.\n",
              " * @param {string} outputId Element ID of the output display.\n",
              " * @return {!Iterable<!Object>} Iterable of next steps.\n",
              " */\n",
              "function* uploadFilesStep(inputId, outputId) {\n",
              "  const inputElement = document.getElementById(inputId);\n",
              "  inputElement.disabled = false;\n",
              "\n",
              "  const outputElement = document.getElementById(outputId);\n",
              "  outputElement.innerHTML = '';\n",
              "\n",
              "  const pickedPromise = new Promise((resolve) => {\n",
              "    inputElement.addEventListener('change', (e) => {\n",
              "      resolve(e.target.files);\n",
              "    });\n",
              "  });\n",
              "\n",
              "  const cancel = document.createElement('button');\n",
              "  inputElement.parentElement.appendChild(cancel);\n",
              "  cancel.textContent = 'Cancel upload';\n",
              "  const cancelPromise = new Promise((resolve) => {\n",
              "    cancel.onclick = () => {\n",
              "      resolve(null);\n",
              "    };\n",
              "  });\n",
              "\n",
              "  // Wait for the user to pick the files.\n",
              "  const files = yield {\n",
              "    promise: Promise.race([pickedPromise, cancelPromise]),\n",
              "    response: {\n",
              "      action: 'starting',\n",
              "    }\n",
              "  };\n",
              "\n",
              "  cancel.remove();\n",
              "\n",
              "  // Disable the input element since further picks are not allowed.\n",
              "  inputElement.disabled = true;\n",
              "\n",
              "  if (!files) {\n",
              "    return {\n",
              "      response: {\n",
              "        action: 'complete',\n",
              "      }\n",
              "    };\n",
              "  }\n",
              "\n",
              "  for (const file of files) {\n",
              "    const li = document.createElement('li');\n",
              "    li.append(span(file.name, {fontWeight: 'bold'}));\n",
              "    li.append(span(\n",
              "        `(${file.type || 'n/a'}) - ${file.size} bytes, ` +\n",
              "        `last modified: ${\n",
              "            file.lastModifiedDate ? file.lastModifiedDate.toLocaleDateString() :\n",
              "                                    'n/a'} - `));\n",
              "    const percent = span('0% done');\n",
              "    li.appendChild(percent);\n",
              "\n",
              "    outputElement.appendChild(li);\n",
              "\n",
              "    const fileDataPromise = new Promise((resolve) => {\n",
              "      const reader = new FileReader();\n",
              "      reader.onload = (e) => {\n",
              "        resolve(e.target.result);\n",
              "      };\n",
              "      reader.readAsArrayBuffer(file);\n",
              "    });\n",
              "    // Wait for the data to be ready.\n",
              "    let fileData = yield {\n",
              "      promise: fileDataPromise,\n",
              "      response: {\n",
              "        action: 'continue',\n",
              "      }\n",
              "    };\n",
              "\n",
              "    // Use a chunked sending to avoid message size limits. See b/62115660.\n",
              "    let position = 0;\n",
              "    do {\n",
              "      const length = Math.min(fileData.byteLength - position, MAX_PAYLOAD_SIZE);\n",
              "      const chunk = new Uint8Array(fileData, position, length);\n",
              "      position += length;\n",
              "\n",
              "      const base64 = btoa(String.fromCharCode.apply(null, chunk));\n",
              "      yield {\n",
              "        response: {\n",
              "          action: 'append',\n",
              "          file: file.name,\n",
              "          data: base64,\n",
              "        },\n",
              "      };\n",
              "\n",
              "      let percentDone = fileData.byteLength === 0 ?\n",
              "          100 :\n",
              "          Math.round((position / fileData.byteLength) * 100);\n",
              "      percent.textContent = `${percentDone}% done`;\n",
              "\n",
              "    } while (position < fileData.byteLength);\n",
              "  }\n",
              "\n",
              "  // All done.\n",
              "  yield {\n",
              "    response: {\n",
              "      action: 'complete',\n",
              "    }\n",
              "  };\n",
              "}\n",
              "\n",
              "scope.google = scope.google || {};\n",
              "scope.google.colab = scope.google.colab || {};\n",
              "scope.google.colab._files = {\n",
              "  _uploadFiles,\n",
              "  _uploadFilesContinue,\n",
              "};\n",
              "})(self);\n",
              "</script> "
            ]
          },
          "metadata": {}
        },
        {
          "output_type": "stream",
          "name": "stdout",
          "text": [
            "Saving 005930.KS.csv to 005930.KS.csv\n"
          ]
        }
      ]
    },
    {
      "cell_type": "code",
      "execution_count": null,
      "metadata": {
        "id": "sKQ314O8jLMV"
      },
      "outputs": [],
      "source": [
        "from pyspark.sql import SparkSession\n",
        "from pyspark.sql.functions import col, to_date, when\n",
        "spark = SparkSession.builder.appName(\"SamsungStockClean\").getOrCreate()"
      ]
    },
    {
      "cell_type": "code",
      "source": [
        "#Load data\n",
        "df = spark.read.csv('005930.KS.csv', header=True, inferSchema=True)\n",
        "df.printSchema()\n",
        "df.describe().show()"
      ],
      "metadata": {
        "colab": {
          "base_uri": "https://localhost:8080/"
        },
        "id": "29VW_-RVjTcJ",
        "outputId": "9d90867a-e1b4-41f1-bfff-e4469815559d"
      },
      "execution_count": null,
      "outputs": [
        {
          "output_type": "stream",
          "name": "stdout",
          "text": [
            "root\n",
            " |-- Date: date (nullable = true)\n",
            " |-- Open: double (nullable = true)\n",
            " |-- High: double (nullable = true)\n",
            " |-- Low: double (nullable = true)\n",
            " |-- Close: double (nullable = true)\n",
            " |-- Adj Close: double (nullable = true)\n",
            " |-- Volume: integer (nullable = true)\n",
            "\n",
            "+-------+------------------+------------------+-----------------+------------------+------------------+--------------------+\n",
            "|summary|              Open|              High|              Low|             Close|         Adj Close|              Volume|\n",
            "+-------+------------------+------------------+-----------------+------------------+------------------+--------------------+\n",
            "|  count|              1505|              1505|             1505|              1505|              1505|                1505|\n",
            "|   mean|64154.617940199336| 64734.01993355482|63548.70431893688| 64108.90365448505| 59933.01363164452|1.6625267806644518E7|\n",
            "| stddev|12269.830762688787|12321.091698838984|12176.81337181051|12227.346772831712|12894.680103072302|   8731551.588529108|\n",
            "|    min|           37450.0|           37600.0|          36850.0|           37450.0|    31952.66796875|                   0|\n",
            "|    max|           90300.0|           96800.0|          89500.0|           91000.0|        86718.8125|            90306177|\n",
            "+-------+------------------+------------------+-----------------+------------------+------------------+--------------------+\n",
            "\n"
          ]
        }
      ]
    },
    {
      "cell_type": "code",
      "source": [
        "# Check missing value\n",
        "for col_name in df.columns:\n",
        "    df.select(col_name).where(col(col_name).isNull()).show()\n",
        "\n",
        "# Convert 'Date' to datetime\n",
        "df = df.withColumn(\"Date\", to_date(col(\"Date\"), \"yyyy-MM-dd\")\n",
        ")\n",
        "# Drop rows\n",
        "df = df.dropna()\n",
        "\n",
        "# Remove duplicate rows\n",
        "df = df.dropDuplicates()\n",
        "\n",
        "# Rename 'Adj Close' column to 'Adj_Close'\n",
        "df = df.withColumnRenamed(\"Adj Close\", \"Adj_Close\")"
      ],
      "metadata": {
        "colab": {
          "base_uri": "https://localhost:8080/"
        },
        "id": "Ze3E7oHtj2hp",
        "outputId": "84b7c573-ae0b-4c17-9282-b2b9df497d9a"
      },
      "execution_count": null,
      "outputs": [
        {
          "output_type": "stream",
          "name": "stdout",
          "text": [
            "+----+\n",
            "|Date|\n",
            "+----+\n",
            "+----+\n",
            "\n",
            "+----+\n",
            "|Open|\n",
            "+----+\n",
            "+----+\n",
            "\n",
            "+----+\n",
            "|High|\n",
            "+----+\n",
            "+----+\n",
            "\n",
            "+---+\n",
            "|Low|\n",
            "+---+\n",
            "+---+\n",
            "\n",
            "+-----+\n",
            "|Close|\n",
            "+-----+\n",
            "+-----+\n",
            "\n",
            "+---------+\n",
            "|Adj Close|\n",
            "+---------+\n",
            "+---------+\n",
            "\n",
            "+------+\n",
            "|Volume|\n",
            "+------+\n",
            "+------+\n",
            "\n"
          ]
        }
      ]
    },
    {
      "cell_type": "code",
      "source": [
        "# Check if 'Open' or 'Close' is less than 'Low'\n",
        "lower_than_low = df.filter((col(\"Open\") < col(\"Low\")) | (col(\"Close\") < col(\"Low\")))\n",
        "print(\"Số lần 'Open' hoặc 'Close' thấp hơn 'Low':\", lower_than_low.count())\n",
        "lower_than_low.show()\n",
        "# Fix incorrect data: if 'Low' < 'Close', set 'Low' to 'Close'\n",
        "df_fixed = df.withColumn(\"Low\", when(col(\"Low\") < col(\"Close\"), col(\"Close\")).otherwise(col(\"Low\")))\n",
        "\n",
        "df_fixed.orderBy(\"Date\").show(5)\n",
        "\n",
        "# Dừng Spark session\n",
        "spark.stop()"
      ],
      "metadata": {
        "colab": {
          "base_uri": "https://localhost:8080/"
        },
        "id": "I2d_J2Khj5_d",
        "outputId": "68e6be4f-03c1-4506-dff6-f0df28d7e8f5"
      },
      "execution_count": null,
      "outputs": [
        {
          "output_type": "stream",
          "name": "stdout",
          "text": [
            "Số lần 'Open' hoặc 'Close' thấp hơn 'Low': 1\n",
            "+----------+-------+-------+-------+-------+-------------+--------+\n",
            "|      Date|   Open|   High|    Low|  Close|    Adj_Close|  Volume|\n",
            "+----------+-------+-------+-------+-------+-------------+--------+\n",
            "|2024-10-14|59500.0|61200.0|59400.0|59300.0|58898.3984375|20886249|\n",
            "+----------+-------+-------+-------+-------+-------------+--------+\n",
            "\n",
            "+----------+-------+-------+-------+-------+---------------+--------+\n",
            "|      Date|   Open|   High|    Low|  Close|      Adj_Close|  Volume|\n",
            "+----------+-------+-------+-------+-------+---------------+--------+\n",
            "|2019-01-02|39400.0|39400.0|38750.0|38750.0| 33061.84765625| 7847664|\n",
            "|2019-01-03|38300.0|38550.0|37600.0|37600.0|32080.662109375|12471493|\n",
            "|2019-01-04|37450.0|37600.0|37450.0|37450.0| 31952.66796875|14108958|\n",
            "|2019-01-07|38000.0|38900.0|38750.0|38750.0| 33061.84765625|12748997|\n",
            "|2019-01-08|38000.0|39200.0|38100.0|38100.0|32507.259765625|12756554|\n",
            "+----------+-------+-------+-------+-------+---------------+--------+\n",
            "only showing top 5 rows\n",
            "\n"
          ]
        }
      ]
    }
  ]
}